{
  "nbformat": 4,
  "nbformat_minor": 0,
  "metadata": {
    "colab": {
      "name": "analy_pgrs.ipynb",
      "private_outputs": true,
      "provenance": [],
      "authorship_tag": "ABX9TyO1EM+glx2LHeSneQfVZq1z",
      "include_colab_link": true
    },
    "kernelspec": {
      "name": "python3",
      "display_name": "Python 3"
    },
    "accelerator": "GPU"
  },
  "cells": [
    {
      "cell_type": "markdown",
      "metadata": {
        "id": "view-in-github",
        "colab_type": "text"
      },
      "source": [
        "<a href=\"https://colab.research.google.com/github/jeawoo0594/programmers_project/blob/main/submit_pgrs.ipynb\" target=\"_parent\"><img src=\"https://colab.research.google.com/assets/colab-badge.svg\" alt=\"Open In Colab\"/></a>"
      ]
    },
    {
      "cell_type": "code",
      "metadata": {
        "id": "Dsaxck8mPhm5"
      },
      "source": [
        "from google.colab import drive\r\n",
        "drive.mount('/content/drive')\r\n",
        "import pandas as pd"
      ],
      "execution_count": null,
      "outputs": []
    },
    {
      "cell_type": "code",
      "metadata": {
        "id": "_n_PhLB9Qdq7"
      },
      "source": [
        "train = pd.read_csv('/content/drive/My Drive/prgs/train.csv')\r\n",
        "job_companies = pd.read_csv('/content/drive/My Drive/prgs/job_companies.csv')\r\n",
        "job_tags = pd.read_csv('/content/drive/My Drive/prgs/job_tags.csv')\r\n",
        "tags = pd.read_csv('/content/drive/My Drive/prgs/tags.csv')\r\n",
        "test_job = pd.read_csv('/content/drive/My Drive/prgs/test_job.csv')\r\n",
        "user_tags = pd.read_csv('/content/drive/My Drive/prgs/user_tags.csv')"
      ],
      "execution_count": null,
      "outputs": []
    },
    {
      "cell_type": "code",
      "metadata": {
        "id": "WzsiQw1tP51n"
      },
      "source": [
        "job_companies['companySize'] = job_companies['companySize'].fillna(0)\r\n",
        "job_companies['companySize']"
      ],
      "execution_count": null,
      "outputs": []
    },
    {
      "cell_type": "code",
      "metadata": {
        "id": "91BUPZBjPofT"
      },
      "source": [
        "job_com = job_companies[['jobID','companySize']]\r\n",
        "companySize = []\r\n",
        "# job_com\r\n",
        "for tr in train['jobID'].values:\r\n",
        "    \r\n",
        "    for job,com in job_com.values:\r\n",
        "        \r\n",
        "        if tr == job:    \r\n",
        "            \r\n",
        "            companySize.append(com)\r\n",
        "        else:\r\n",
        "            pass\r\n",
        "train['companySize'] = companySize\r\n",
        "print(train)"
      ],
      "execution_count": null,
      "outputs": []
    },
    {
      "cell_type": "code",
      "metadata": {
        "id": "l7_eqaddQsFW"
      },
      "source": [
        "change_dic = {'1-10': 1, '11-50':2,'51-100':3,'101-200':4,'201-500':5,'501-1000':6,'1000 이상': 7}\r\n",
        "train = train.replace({'companySize':change_dic })\r\n",
        "train"
      ],
      "execution_count": null,
      "outputs": []
    },
    {
      "cell_type": "code",
      "metadata": {
        "id": "mCbtKKNEQzV7"
      },
      "source": [
        "train = pd.get_dummies(data = train, columns = ['companySize'], prefix = 'companySize')"
      ],
      "execution_count": null,
      "outputs": []
    },
    {
      "cell_type": "code",
      "metadata": {
        "id": "aGsxk9RrQ2Dm"
      },
      "source": [
        "train"
      ],
      "execution_count": null,
      "outputs": []
    },
    {
      "cell_type": "code",
      "metadata": {
        "id": "xwlkjgn9Q3kq"
      },
      "source": [
        "# jobtags = []\r\n",
        "# # job_com\r\n",
        "# for job,tag in job_tags.values:\r\n",
        "    \r\n",
        "#     for tai,key in tags.values:\r\n",
        "        \r\n",
        "#         if tag == tai:    \r\n",
        "            \r\n",
        "#             jobtags.append(key)\r\n",
        "#         else:\r\n",
        "#             pass\r\n",
        "# job_tags['keyword'] = jobtags\r\n",
        "# print(job_tags)"
      ],
      "execution_count": null,
      "outputs": []
    },
    {
      "cell_type": "code",
      "metadata": {
        "id": "ui4K58TKQ654"
      },
      "source": [
        "# usertags = []\r\n",
        "# # job_com\r\n",
        "# for job,tag in user_tags.values:\r\n",
        "    \r\n",
        "#     for tai,key in tags.values:\r\n",
        "        \r\n",
        "#         if tag == tai:    \r\n",
        "            \r\n",
        "#             usertags.append(key)\r\n",
        "#         else:\r\n",
        "#             pass\r\n",
        "# user_tags['keyword'] = usertags\r\n",
        "# print(user_tags)"
      ],
      "execution_count": null,
      "outputs": []
    },
    {
      "cell_type": "code",
      "metadata": {
        "id": "ECHRfEmvQ-Ez"
      },
      "source": [
        "# same_key = []\r\n",
        "# for job,tag in zip(job_tags['jobID'],job_tags['keyword']):\r\n",
        "    \r\n",
        "#     for use,tad in zip(user_tags['userID'],user_tags['keyword']):\r\n",
        "        \r\n",
        "#         if tag == tad:\r\n",
        "#             semi_same = []\r\n",
        "#             semi_same.append(use)\r\n",
        "#             semi_same.append(job)\r\n",
        "#             semi_same.append(tad)\r\n",
        "#             same_key.append(semi_same)\r\n",
        "#         else:\r\n",
        "#             pass\r\n",
        "# same_key"
      ],
      "execution_count": null,
      "outputs": []
    },
    {
      "cell_type": "code",
      "metadata": {
        "id": "hbiJSidXRCPA"
      },
      "source": [
        "# new_key = []\r\n",
        "# for v in same_key:\r\n",
        "#     if v not in new_key:\r\n",
        "#         new_key.append(v)\r\n",
        "# print(new_key)"
      ],
      "execution_count": null,
      "outputs": []
    },
    {
      "cell_type": "code",
      "metadata": {
        "id": "Df98HGOSRKhN"
      },
      "source": [
        "# new_key"
      ],
      "execution_count": null,
      "outputs": []
    },
    {
      "cell_type": "code",
      "metadata": {
        "id": "biSwLuAwnLKw"
      },
      "source": [
        "# keyword_tr = []\r\n",
        "# for user, job,k in new_key:\r\n",
        "#     for use,jo in zip(train['userID'],train['jobID']):\r\n",
        "#         if user == use and job == jo:\r\n",
        "#             keyword_tr.append(k)\r\n",
        "# train['keyword'] = keyword_tr\r\n",
        "# train\r\n",
        "# columns = ['userID','jobID','keyword']\r\n",
        "# key_df = pd.DataFrame(new_key, columns=columns)\r\n",
        "# key_df = pd.get_dummies(data = key_df, columns = ['keyword'], prefix = 'keyword')\r\n",
        "# key_df"
      ],
      "execution_count": null,
      "outputs": []
    },
    {
      "cell_type": "code",
      "metadata": {
        "id": "hFXA83M9oDry"
      },
      "source": [
        "target = train['applied']\r\n",
        "train_data = train.drop('applied', axis=1)\r\n",
        "train_data"
      ],
      "execution_count": null,
      "outputs": []
    },
    {
      "cell_type": "code",
      "metadata": {
        "id": "0G99q_zy32ao"
      },
      "source": [
        "user_code = []\r\n",
        "user_con =[]\r\n",
        "count = 1\r\n",
        "for cod in train_data['userID']:\r\n",
        "    # print(cod)\r\n",
        "    \r\n",
        "    if cod not in user_code:\r\n",
        "\r\n",
        "        user_code.append(cod)\r\n",
        "        user_con.append(count)\r\n",
        "        count += 1\r\n",
        "    # else:\r\n",
        "    #     user_code.append(count)\r\n",
        "    #     user_con.append('overcount')\r\n",
        "\r\n",
        "print(f'usercode: {user_code} \\n usercount: {user_con}')"
      ],
      "execution_count": null,
      "outputs": []
    },
    {
      "cell_type": "code",
      "metadata": {
        "id": "cIi-Ao28IsfH"
      },
      "source": [
        "user_dic = dict(zip(user_code,user_con))\r\n",
        "user_dic\r\n"
      ],
      "execution_count": null,
      "outputs": []
    },
    {
      "cell_type": "code",
      "metadata": {
        "id": "Its5ins5JG3V"
      },
      "source": [
        "# for data in train_data:\r\n",
        "train_data['userID'] = train_data['userID'].map(user_dic)\r\n",
        "train_data"
      ],
      "execution_count": null,
      "outputs": []
    },
    {
      "cell_type": "code",
      "metadata": {
        "id": "ZHnLViMWeAaw"
      },
      "source": [
        "job_code = []\r\n",
        "job_con =[]\r\n",
        "count_j = 1\r\n",
        "for job in train_data['jobID']:\r\n",
        "    # print(cod)\r\n",
        "    \r\n",
        "    if job not in job_code:\r\n",
        "\r\n",
        "        job_code.append(job)\r\n",
        "        job_con.append(count_j)\r\n",
        "        count_j += 1\r\n",
        "    # else:\r\n",
        "    #     user_code.append(count)\r\n",
        "    #     user_con.append('overcount')\r\n",
        "\r\n",
        "print(f'jobcode: {job_code} \\n jobcount: {job_con}')"
      ],
      "execution_count": null,
      "outputs": []
    },
    {
      "cell_type": "code",
      "metadata": {
        "id": "MTw7yuameibs"
      },
      "source": [
        "job_dic = dict(zip(job_code,job_con))\r\n"
      ],
      "execution_count": null,
      "outputs": []
    },
    {
      "cell_type": "code",
      "metadata": {
        "id": "xAYX4Uzmeikl"
      },
      "source": [
        "\r\n",
        "train_data['jobID'] = train_data['jobID'].map(job_dic)\r\n",
        "train_data"
      ],
      "execution_count": null,
      "outputs": []
    },
    {
      "cell_type": "code",
      "metadata": {
        "id": "6Ek6f49qq7rF"
      },
      "source": [
        "from xgboost import plot_importance\r\n",
        "from xgboost import XGBClassifier\r\n",
        "from sklearn.model_selection import KFold,GridSearchCV\r\n",
        "from sklearn.model_selection import cross_val_score\r\n",
        "k_fold = KFold(n_splits =5, shuffle=True, random_state = 12)\r\n",
        "xgb = XGBClassifier()\r\n",
        "xgb_param_grid = {'n_estimators':[100,200,300,400,500],\r\n",
        "                 'learning_rate': [0.1, 0.01, 0.05, 0.2],\r\n",
        "                 'max_depth': [4,8,12,16]}\r\n",
        "xgb_grid = GridSearchCV(xgb, param_grid = xgb_param_grid,cv=5,scoring='accuracy', n_jobs=-1,verbose=1)\r\n",
        "xgb_grid.fit(train_data,target)\r\n",
        "scores_df = pd.DataFrame(xgb_grid.cv_results_)\r\n",
        "print(scores_df)"
      ],
      "execution_count": null,
      "outputs": []
    },
    {
      "cell_type": "code",
      "metadata": {
        "id": "pGoVDvUD180T"
      },
      "source": [
        "print(f'best_param: {xgb_grid.best_params_}')\r\n",
        "print(f'best_acc : {xgb_grid.best_score_}')"
      ],
      "execution_count": null,
      "outputs": []
    },
    {
      "cell_type": "code",
      "metadata": {
        "id": "XqpaCuC3hzOm"
      },
      "source": [
        "from sklearn.svm import SVC\r\n",
        "clf = SVC()\r\n",
        "scoring = 'accuracy'\r\n",
        "score = cross_val_score(clf, train_data, target, cv=k_fold, n_jobs=1, scoring=scoring)\r\n",
        "print(score)"
      ],
      "execution_count": null,
      "outputs": []
    },
    {
      "cell_type": "code",
      "metadata": {
        "id": "aG5Yu5rAvYHo"
      },
      "source": [
        "import numpy as np\r\n",
        "print(np.mean(score))"
      ],
      "execution_count": null,
      "outputs": []
    },
    {
      "cell_type": "code",
      "metadata": {
        "id": "455_MlXGh8t7"
      },
      "source": [
        "from lightgbm import LGBMClassifier,plot_importance\r\n",
        "lgb = LGBMClassifier(feature_fraction = 0.8,num_leaves = 80)\r\n",
        "lgb_param_grid = {'n_estimators':[100,300,500],\r\n",
        "                 'learning_rate': [0.1, 0.01, 0.03],\r\n",
        "                 'max_depth': [4,8,15,50],\r\n",
        "                  'feature_fraction': [0.8,0.9]\r\n",
        "                  }\r\n",
        "lgb_grid = GridSearchCV(lgb, param_grid = lgb_param_grid,cv=5,scoring='accuracy', n_jobs=-1,verbose=1)\r\n",
        "lgb_grid.fit(train_data,target)\r\n",
        "scores_lgb = pd.DataFrame(lgb_grid.cv_results_)\r\n",
        "print(scores_lgb)"
      ],
      "execution_count": null,
      "outputs": []
    },
    {
      "cell_type": "code",
      "metadata": {
        "id": "Fcn_s1zkku_D"
      },
      "source": [
        "print(f'best_param: {lgb_grid.best_params_}')\r\n",
        "print(f'best_acc : {lgb_grid.best_score_}')"
      ],
      "execution_count": null,
      "outputs": []
    },
    {
      "cell_type": "code",
      "metadata": {
        "id": "qVBuonRqpdQw"
      },
      "source": [
        "# test_job\r\n",
        "companySize_test = []\r\n",
        "# job_com\r\n",
        "for tr in test_job['jobID'].values:\r\n",
        "    \r\n",
        "    for job,com in job_com.values:\r\n",
        "        \r\n",
        "        if tr == job:    \r\n",
        "            \r\n",
        "            companySize_test.append(com)\r\n",
        "        else:\r\n",
        "            pass\r\n",
        "test_job['companySize'] = companySize_test\r\n",
        "print(test_job)"
      ],
      "execution_count": null,
      "outputs": []
    },
    {
      "cell_type": "code",
      "metadata": {
        "id": "oWCOesptp_Ih"
      },
      "source": [
        "test_job = test_job.replace({'companySize':change_dic })\r\n",
        "test_job"
      ],
      "execution_count": null,
      "outputs": []
    },
    {
      "cell_type": "code",
      "metadata": {
        "id": "WZt0hw9UqLnv"
      },
      "source": [
        "test_job = pd.get_dummies(data = test_job, columns = ['companySize'], prefix = 'companySize')\r\n",
        "test_job"
      ],
      "execution_count": null,
      "outputs": []
    },
    {
      "cell_type": "code",
      "metadata": {
        "id": "3pGQTnPlr9oT"
      },
      "source": [
        "test_job['userID']"
      ],
      "execution_count": null,
      "outputs": []
    },
    {
      "cell_type": "code",
      "metadata": {
        "id": "o_r52b3SqZEM"
      },
      "source": [
        "user_code_test = []\r\n",
        "user_con_test =[]\r\n",
        "count_t = 1\r\n",
        "for uct in test_job['userID']:\r\n",
        "    # print(uct)\r\n",
        "    \r\n",
        "    if uct not in user_code_test:\r\n",
        "\r\n",
        "        user_code_test.append(uct)\r\n",
        "        user_con_test.append(count_t)\r\n",
        "        count_t += 1\r\n",
        "    # else:\r\n",
        "    #     user_code.append(count)\r\n",
        "    #     user_con.append('overcount')\r\n",
        "\r\n",
        "print(f'usercode: {user_code_test} \\n usercount: {user_con_test}')\r\n",
        "# test_job['userID'] = test_job['userID'].map(user_dic)\r\n",
        "# test_job['jobID'] = test_job['jobID'].map(job_dic)\r\n",
        "# test_job.isnull().sum()"
      ],
      "execution_count": null,
      "outputs": []
    },
    {
      "cell_type": "code",
      "metadata": {
        "id": "jR7LTl47q0CQ"
      },
      "source": [
        "usertest_dic = dict(zip(user_code_test,user_con_test))\r\n",
        "# user_dic\r\n",
        "test_job['userID'] = test_job['userID'].map(usertest_dic)\r\n",
        "test_job"
      ],
      "execution_count": null,
      "outputs": []
    },
    {
      "cell_type": "code",
      "metadata": {
        "id": "f2sgptaPwswb"
      },
      "source": [
        "job_code_t = []\r\n",
        "job_con_t =[]\r\n",
        "jobcount_t = 1\r\n",
        "for jobs in test_job['jobID']:\r\n",
        "    # print(cod)\r\n",
        "    \r\n",
        "    if jobs not in job_code_t:\r\n",
        "\r\n",
        "        job_code_t.append(jobs)\r\n",
        "        job_con_t.append(jobcount_t)\r\n",
        "        jobcount_t += 1\r\n",
        "    # else:\r\n",
        "    #     user_code.append(count)\r\n",
        "    #     user_con.append('overcount')\r\n",
        "\r\n",
        "print(f'jobcode: {job_code_t} \\n jobcount: {job_con_t}')"
      ],
      "execution_count": null,
      "outputs": []
    },
    {
      "cell_type": "code",
      "metadata": {
        "id": "OELCoD0gxG8L"
      },
      "source": [
        "jobtest_dic = dict(zip(job_code_t,job_con_t))\r\n",
        "# user_dic\r\n",
        "test_job['jobID'] = test_job['jobID'].map(jobtest_dic)\r\n",
        "test_job"
      ],
      "execution_count": null,
      "outputs": []
    },
    {
      "cell_type": "code",
      "metadata": {
        "id": "CYgWR0HqxRGj"
      },
      "source": [
        "test_job.isnull().sum()"
      ],
      "execution_count": null,
      "outputs": []
    },
    {
      "cell_type": "code",
      "metadata": {
        "id": "mjqubikdxUeg"
      },
      "source": [
        "prediction = lgb_grid.predict(test_job)\r\n",
        "prediction"
      ],
      "execution_count": null,
      "outputs": []
    },
    {
      "cell_type": "code",
      "metadata": {
        "id": "w3_KCFN4xlr7"
      },
      "source": [
        "submission = pd.DataFrame({\r\n",
        "    'applied': prediction\r\n",
        "})\r\n",
        "submission.to_csv('submission_prgs.csv',index=False)\r\n",
        "!ls"
      ],
      "execution_count": null,
      "outputs": []
    },
    {
      "cell_type": "code",
      "metadata": {
        "id": "hU0uvlYvyoPg"
      },
      "source": [
        "from google.colab import files\r\n",
        "files.download('submission_prgs.csv')"
      ],
      "execution_count": null,
      "outputs": []
    },
    {
      "cell_type": "code",
      "metadata": {
        "id": "fXp2uIjAysXp"
      },
      "source": [
        ""
      ],
      "execution_count": null,
      "outputs": []
    }
  ]
}